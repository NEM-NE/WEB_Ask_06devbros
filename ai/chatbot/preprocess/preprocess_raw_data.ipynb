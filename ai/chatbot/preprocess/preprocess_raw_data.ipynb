{
 "metadata": {
  "language_info": {
   "codemirror_mode": {
    "name": "ipython",
    "version": 3
   },
   "file_extension": ".py",
   "mimetype": "text/x-python",
   "name": "python",
   "nbconvert_exporter": "python",
   "pygments_lexer": "ipython3",
   "version": "3.6.8-final"
  },
  "orig_nbformat": 2,
  "kernelspec": {
   "name": "Python 3.6.8 64-bit",
   "display_name": "Python 3.6.8 64-bit",
   "metadata": {
    "interpreter": {
     "hash": "e317281613622675685ce5fb34adf74717fd2c5fcee25eb6aab0c2b36e0ab9ab"
    }
   }
  }
 },
 "nbformat": 4,
 "nbformat_minor": 2,
 "cells": [
  {
   "cell_type": "code",
   "execution_count": 1,
   "metadata": {},
   "outputs": [],
   "source": [
    "import openpyxl, csv\n",
    "import random\n",
    "from openpyxl import Workbook, load_workbook"
   ]
  },
  {
   "source": [
    "Convert xlsx & csv data to txt data "
   ],
   "cell_type": "markdown",
   "metadata": {}
  },
  {
   "cell_type": "code",
   "execution_count": 2,
   "metadata": {},
   "outputs": [],
   "source": [
    "root_path = \"..\\\\data\"\n",
    "\n",
    "chatbot_raw_data = root_path + \"\\\\ChatbotData .csv\"\n",
    "wellness_raw_data = root_path + \"\\\\wellness_dialog_dataset.xlsx\"\n",
    "\n",
    "wellness_qna_data = root_path + \"\\\\wellness_dialog_for_autoregressive.txt\"\n",
    "wellness_category_data = root_path + \"\\\\wellness_data_for_text_classification.txt\"\n",
    "chatbot_wellness_merged = root_path + \"\\\\chatbot_wellness_dialog_for_autoregressive.txt\""
   ]
  },
  {
   "source": [
    "Save wellness_auto_regressive.txt data"
   ],
   "cell_type": "markdown",
   "metadata": {}
  },
  {
   "cell_type": "code",
   "execution_count": 3,
   "metadata": {
    "tags": []
   },
   "outputs": [],
   "source": [
    "#Make sure to encode txt files with UTF-8 \n",
    "wb_well = load_workbook(filename=wellness_raw_data)\n",
    "ws_well = wb_well[wb_well.sheetnames[0]]\n",
    "\n",
    "f_well = open(wellness_qna_data, \"w\")\n",
    "f_cat = open(wellness_category_data, \"w\")\n",
    "f_chat_well = open(chatbot_wellness_merged, \"w\")\n",
    "\n",
    "type_buffer = None\n",
    "q_buffer = []\n",
    "a_buffer = []\n",
    "\n",
    "for row in ws_well.iter_rows():\n",
    "    if row[0].value == '구분':\n",
    "        continue\n",
    "    else:\n",
    "        f_cat.writelines(row[0].value + \"\\t\" + row[1].value + \"\\n\") # save category-question pairs\n",
    "    if type_buffer == row[0].value or type_buffer is None:\n",
    "        type_buffer = row[0].value\n",
    "        q_buffer.append(row[1].value)\n",
    "        if row[2].value is not None:\n",
    "            a_buffer.append(row[2].value)\n",
    "    else:\n",
    "        for i in range(len(q_buffer)):\n",
    "            for j in range(len(a_buffer)):\n",
    "                line_to_write = q_buffer[i] + \"\\t\" + a_buffer[j] + \"\\n\"\n",
    "                f_well.writelines(line_to_write)\n",
    "                f_chat_well.writelines(line_to_write) # save question-answer pairs\n",
    "        # initialize buffers and add new values\n",
    "        type_buffer = row[0].value\n",
    "        q_buffer = []\n",
    "        a_buffer = []\n",
    "        q_buffer.append(row[1].value)\n",
    "        if row[2].value is not None:\n",
    "            a_buffer.append(row[2].value)\n",
    "\n",
    "# further read 'Chatbot .csv' file to add more question-answer pairs\n",
    "with open(chatbot_raw_data, 'r', encoding='UTF8') as csvfile:\n",
    "    csv_reader = csv.reader(csvfile)\n",
    "    for row in csv_reader:\n",
    "        if row[0] == 'Q':\n",
    "            continue\n",
    "        line_to_write = row[0] + \"\\t\" + row[1] + \"\\n\"\n",
    "        f_chat_well.writelines(line_to_write) # save question-answer pairs\n",
    "\n",
    "f_well.close()\n",
    "f_cat.close()\n",
    "f_chat_well.close()"
   ]
  },
  {
   "cell_type": "code",
   "execution_count": null,
   "metadata": {},
   "outputs": [],
   "source": []
  }
 ]
}